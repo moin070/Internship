{
  "nbformat": 4,
  "nbformat_minor": 0,
  "metadata": {
    "colab": {
      "provenance": [],
      "authorship_tag": "ABX9TyNWaj/ZYCRMJ9biwZ8ax9cj",
      "include_colab_link": true
    },
    "kernelspec": {
      "name": "python3",
      "display_name": "Python 3"
    },
    "language_info": {
      "name": "python"
    }
  },
  "cells": [
    {
      "cell_type": "markdown",
      "metadata": {
        "id": "view-in-github",
        "colab_type": "text"
      },
      "source": [
        "<a href=\"https://colab.research.google.com/github/moin070/Internship/blob/main/task_1/pandas.ipynb\" target=\"_parent\"><img src=\"https://colab.research.google.com/assets/colab-badge.svg\" alt=\"Open In Colab\"/></a>"
      ]
    },
    {
      "cell_type": "code",
      "execution_count": null,
      "metadata": {
        "id": "80DsvRDS7Azb",
        "outputId": "b43a8e3f-44c2-4bab-dd58-9efa3a338832",
        "colab": {
          "base_uri": "https://localhost:8080/"
        }
      },
      "outputs": [
        {
          "output_type": "stream",
          "name": "stdout",
          "text": [
            "0    1\n",
            "1    2\n",
            "2    3\n",
            "3    4\n",
            "4    5\n",
            "dtype: int64\n"
          ]
        }
      ],
      "source": [
        "# program to create one dimensional array using pandas module\n",
        "import pandas as pd\n",
        "ds = pd.Series([1,2,3,4,5])\n",
        "print(ds)"
      ]
    },
    {
      "cell_type": "code",
      "source": [
        "# program for print array values elements wise\n",
        "import pandas as pd\n",
        "dics=pd.DataFrame({'A':[3,5,2,6],'B':[7,3,8,4],'C':[3,6,7,2]})\n",
        "print(dics)"
      ],
      "metadata": {
        "id": "mXKbDNeOE61J",
        "outputId": "7f2da505-bb83-4c6b-8066-4b6e8edf8401",
        "colab": {
          "base_uri": "https://localhost:8080/"
        }
      },
      "execution_count": null,
      "outputs": [
        {
          "output_type": "stream",
          "name": "stdout",
          "text": [
            "   A  B  C\n",
            "0  3  7  3\n",
            "1  5  3  6\n",
            "2  2  8  7\n",
            "3  6  4  2\n"
          ]
        }
      ]
    },
    {
      "cell_type": "code",
      "source": [
        "#program for adding two pandas series\n",
        "import pandas as pd\n",
        "num1=pd.Series ([3,4,5,6])\n",
        "num2=pd.Series ([4,3,7,2])\n",
        "add=num1+num2\n",
        "print(add)"
      ],
      "metadata": {
        "id": "KovPsbu38L7s",
        "outputId": "0b1eb49c-1732-401d-fd0c-a001002de629",
        "colab": {
          "base_uri": "https://localhost:8080/"
        }
      },
      "execution_count": null,
      "outputs": [
        {
          "output_type": "stream",
          "name": "stdout",
          "text": [
            "0     7\n",
            "1     7\n",
            "2    12\n",
            "3     8\n",
            "dtype: int64\n"
          ]
        }
      ]
    },
    {
      "cell_type": "code",
      "source": [
        "#program to compare the elements of two pandas sereis\n",
        "import pandas as pd\n",
        "ps1=pd.Series([3,4,6,9])\n",
        "ps2=pd.Series([8,3,5,9])\n",
        "print(ps1)\n",
        "print(ps2)\n",
        "print(\"comparesion between ps1 and ps1 is\")\n",
        "print(ps1==ps2)\n",
        "print(ps1<ps2)\n",
        "print(ps1>ps2)"
      ],
      "metadata": {
        "id": "OQsS2rx0C915",
        "outputId": "23930645-ca26-4a08-c595-34552feb422f",
        "colab": {
          "base_uri": "https://localhost:8080/"
        }
      },
      "execution_count": null,
      "outputs": [
        {
          "output_type": "stream",
          "name": "stdout",
          "text": [
            "0    3\n",
            "1    4\n",
            "2    6\n",
            "3    9\n",
            "dtype: int64\n",
            "0    8\n",
            "1    3\n",
            "2    5\n",
            "3    9\n",
            "dtype: int64\n",
            "comparesion between ps1 and ps1 is\n",
            "0    False\n",
            "1    False\n",
            "2    False\n",
            "3     True\n",
            "dtype: bool\n",
            "0     True\n",
            "1    False\n",
            "2    False\n",
            "3    False\n",
            "dtype: bool\n",
            "0    False\n",
            "1     True\n",
            "2     True\n",
            "3    False\n",
            "dtype: bool\n"
          ]
        }
      ]
    },
    {
      "cell_type": "code",
      "source": [
        "#pragram to display dataframes from dictionary data\n",
        "import pandas as pd\n",
        "data={'Names':['Moin','Hasir','wasim','kaif'],\n",
        "                   'Address':['alephata','pune','Mumbai','Nashik']}\n",
        "labels=['A','B','C','D']\n",
        "\n",
        "info=pd.DataFrame(data, index=labels)\n",
        "print(info)\n",
        "\n"
      ],
      "metadata": {
        "id": "1HlgI7tIGyUe",
        "outputId": "f26cd2cd-4b51-4c7b-9d49-37d393ef5c0a",
        "colab": {
          "base_uri": "https://localhost:8080/"
        }
      },
      "execution_count": null,
      "outputs": [
        {
          "output_type": "stream",
          "name": "stdout",
          "text": [
            "   Names   Address\n",
            "A   Moin  alephata\n",
            "B  Hasir      pune\n",
            "C  wasim    Mumbai\n",
            "D   kaif    Nashik\n"
          ]
        }
      ]
    }
  ]
}